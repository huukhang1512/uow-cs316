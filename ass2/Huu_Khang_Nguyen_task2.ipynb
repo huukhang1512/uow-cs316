{
 "cells": [
  {
   "attachments": {},
   "cell_type": "markdown",
   "metadata": {},
   "source": [
    "# Author:\n",
    "\n",
    "- Huu Khang Nguyen - 7402909\n",
    "- hkn878@uowmail.edu.au\n"
   ]
  },
  {
   "attachments": {},
   "cell_type": "markdown",
   "metadata": {},
   "source": [
    "# Environment:\n",
    "\n",
    "- Python 3.10.6\n",
    "- Ubuntu 22.04.2 LTS x86_64"
   ]
  },
  {
   "cell_type": "code",
   "execution_count": 1,
   "metadata": {},
   "outputs": [],
   "source": [
    "from pyspark.sql import SparkSession"
   ]
  },
  {
   "cell_type": "code",
   "execution_count": 2,
   "metadata": {},
   "outputs": [
    {
     "name": "stderr",
     "output_type": "stream",
     "text": [
      "23/05/28 14:07:41 WARN Utils: Your hostname, huukhang1512-B550I-AORUS-PRO-AX resolves to a loopback address: 127.0.1.1; using 192.168.0.162 instead (on interface wlp6s0)\n",
      "23/05/28 14:07:41 WARN Utils: Set SPARK_LOCAL_IP if you need to bind to another address\n",
      "Setting default log level to \"WARN\".\n",
      "To adjust logging level use sc.setLogLevel(newLevel). For SparkR, use setLogLevel(newLevel).\n",
      "23/05/28 14:07:41 WARN NativeCodeLoader: Unable to load native-hadoop library for your platform... using builtin-java classes where applicable\n"
     ]
    }
   ],
   "source": [
    "spark = SparkSession.builder.getOrCreate()\n",
    "spark_context = spark.sparkContext"
   ]
  },
  {
   "attachments": {},
   "cell_type": "markdown",
   "metadata": {},
   "source": [
    "# Load data into RDD"
   ]
  },
  {
   "cell_type": "code",
   "execution_count": 20,
   "metadata": {},
   "outputs": [],
   "source": [
    "# Download the webpage dataset into the local machine\n",
    "WEB_PAGE_DATASET = './gr0.California.txt'\n",
    "\n",
    "# Read into RDD\n",
    "lines = spark_context.textFile(WEB_PAGE_DATASET)"
   ]
  },
  {
   "cell_type": "code",
   "execution_count": 21,
   "metadata": {},
   "outputs": [],
   "source": [
    "def process_line(line):\n",
    "    return line.split(\" \")"
   ]
  },
  {
   "cell_type": "code",
   "execution_count": 22,
   "metadata": {},
   "outputs": [],
   "source": [
    "lines_map = lines.map(process_line)"
   ]
  },
  {
   "cell_type": "code",
   "execution_count": 83,
   "metadata": {},
   "outputs": [],
   "source": [
    "def add_1(line):\n",
    "    (_, src, dest) = line.split(' ')\n",
    "    return (src, dest, 1)"
   ]
  },
  {
   "cell_type": "code",
   "execution_count": 84,
   "metadata": {},
   "outputs": [],
   "source": [
    "def process_web_page(line):\n",
    "    (_, id, url) = line.split(' ')\n",
    "    return (id, url)"
   ]
  },
  {
   "cell_type": "code",
   "execution_count": 85,
   "metadata": {},
   "outputs": [],
   "source": [
    "web_page = lines.filter(lambda line: \"n\" in line[0]).map(process_web_page)\n",
    "web_page_graph = lines.filter(lambda line: \"e\" in line[0]).map(add_1)\n"
   ]
  },
  {
   "cell_type": "code",
   "execution_count": 86,
   "metadata": {},
   "outputs": [
    {
     "data": {
      "text/plain": [
       "9664"
      ]
     },
     "execution_count": 86,
     "metadata": {},
     "output_type": "execute_result"
    }
   ],
   "source": [
    "len(web_page.collect())"
   ]
  },
  {
   "cell_type": "code",
   "execution_count": 87,
   "metadata": {},
   "outputs": [
    {
     "data": {
      "text/plain": [
       "16150"
      ]
     },
     "execution_count": 87,
     "metadata": {},
     "output_type": "execute_result"
    }
   ],
   "source": [
    "len(web_page_graph.collect())"
   ]
  },
  {
   "attachments": {},
   "cell_type": "markdown",
   "metadata": {},
   "source": [
    "# Reduce Step"
   ]
  },
  {
   "attachments": {},
   "cell_type": "markdown",
   "metadata": {},
   "source": [
    "## Reduce by out-degree"
   ]
  },
  {
   "attachments": {},
   "cell_type": "markdown",
   "metadata": {},
   "source": [
    "### Out-degree"
   ]
  },
  {
   "cell_type": "code",
   "execution_count": 147,
   "metadata": {},
   "outputs": [],
   "source": [
    "from operator import add\n",
    "out_degree_map = web_page_graph \\\n",
    "    .map(lambda x: (x[0], x[2])) \\\n",
    "    .union(web_page.map(lambda x: (x[0], 0))) \\\n",
    "    .reduceByKey(add) \\\n",
    "    .sortBy(lambda x: x[1], ascending=False)"
   ]
  },
  {
   "attachments": {},
   "cell_type": "markdown",
   "metadata": {},
   "source": [
    "#### Web pages with largest out-degree"
   ]
  },
  {
   "attachments": {},
   "cell_type": "markdown",
   "metadata": {},
   "source": [
    "##### Get top 5"
   ]
  },
  {
   "cell_type": "code",
   "execution_count": 156,
   "metadata": {},
   "outputs": [
    {
     "data": {
      "text/plain": [
       "[('235', 164), ('1437', 46), ('1627', 45), ('257', 43), ('1235', 43)]"
      ]
     },
     "execution_count": 156,
     "metadata": {},
     "output_type": "execute_result"
    }
   ],
   "source": [
    "top_five_out_largest = out_degree_map.collect()[:5]\n",
    "top_five_out_largest"
   ]
  },
  {
   "cell_type": "code",
   "execution_count": 161,
   "metadata": {},
   "outputs": [
    {
     "name": "stdout",
     "output_type": "stream",
     "text": [
      "235 http://www.water.ca.gov/www.gov.sites.html 164\n",
      "1437 http://www.igs.berkeley.edu:8880/library/cgpp.html 46\n",
      "1627 http://www.ca.gov/s/search/servers.html 45\n",
      "257 http://www.seismo.berkeley.edu/seismo/Homepage.html 43\n",
      "1235 http://california.findlaw.com/CA10_california_governemnt/index.html 43\n"
     ]
    }
   ],
   "source": [
    "for row in top_five_out_largest:\n",
    "    (id_to_find, count) = row\n",
    "    matching_urls = web_page.filter(lambda x: x[0] == id_to_find)\n",
    "    for id, url in matching_urls.collect():\n",
    "        print(id, url, count)\n"
   ]
  },
  {
   "attachments": {},
   "cell_type": "markdown",
   "metadata": {},
   "source": [
    "#### Get largest"
   ]
  },
  {
   "cell_type": "code",
   "execution_count": 172,
   "metadata": {},
   "outputs": [
    {
     "name": "stdout",
     "output_type": "stream",
     "text": [
      "235 http://www.water.ca.gov/www.gov.sites.html 164\n"
     ]
    }
   ],
   "source": [
    "largest = out_degree_map.max(lambda x: x[1])\n",
    "matching_urls = web_page.filter(lambda x: x[0] == largest[0])\n",
    "for id, url in matching_urls.collect():\n",
    "    print(id, url, largest[1])"
   ]
  },
  {
   "attachments": {},
   "cell_type": "markdown",
   "metadata": {},
   "source": [
    "#### Number of webpages whose out-degree is 0"
   ]
  },
  {
   "cell_type": "markdown",
   "metadata": {},
   "source": [
    "#### Average out-degree"
   ]
  },
  {
   "cell_type": "code",
   "execution_count": 129,
   "metadata": {},
   "outputs": [
    {
     "data": {
      "text/plain": [
       "4637"
      ]
     },
     "execution_count": 129,
     "metadata": {},
     "output_type": "execute_result"
    }
   ],
   "source": [
    "out_degree_map.filter(lambda x: x[1] == 0).count()"
   ]
  },
  {
   "attachments": {},
   "cell_type": "markdown",
   "metadata": {},
   "source": [
    "#### Average out-degree"
   ]
  },
  {
   "cell_type": "code",
   "execution_count": 138,
   "metadata": {},
   "outputs": [
    {
     "name": "stdout",
     "output_type": "stream",
     "text": [
      "Average out-degree (includes those with no out degree) = 1.671150662251659\n"
     ]
    }
   ],
   "source": [
    "avg = out_degree_map.map(lambda x: x[1]).mean()\n",
    "print(f\"Average out-degree (includes those with no out degree) = {avg}\")"
   ]
  },
  {
   "cell_type": "code",
   "execution_count": 139,
   "metadata": {},
   "outputs": [
    {
     "name": "stdout",
     "output_type": "stream",
     "text": [
      "Average out-degree (does not includes those with no out degree) = 3.2126516809230137\n"
     ]
    }
   ],
   "source": [
    "avg = web_page_graph \\\n",
    "    .map(lambda x: (x[0], x[2])) \\\n",
    "    .reduceByKey(add) \\\n",
    "    .map(lambda x: x[1]).mean()\n",
    "print(f\"Average out-degree (does not includes those with no out degree) = {avg}\")"
   ]
  },
  {
   "attachments": {},
   "cell_type": "markdown",
   "metadata": {},
   "source": [
    "### In-degree"
   ]
  },
  {
   "cell_type": "code",
   "execution_count": 153,
   "metadata": {},
   "outputs": [],
   "source": [
    "in_degree_map = web_page_graph \\\n",
    "    .map(lambda x: (x[1], x[2])) \\\n",
    "    .union(web_page.map(lambda x: (x[0], 0))) \\\n",
    "    .reduceByKey(add) \\\n",
    "    .sortBy(lambda x: x[1], ascending=False)"
   ]
  },
  {
   "attachments": {},
   "cell_type": "markdown",
   "metadata": {},
   "source": [
    "#### Average in-degree"
   ]
  },
  {
   "cell_type": "code",
   "execution_count": 137,
   "metadata": {},
   "outputs": [
    {
     "name": "stdout",
     "output_type": "stream",
     "text": [
      "Average in-degree = 1.6711506622516576\n"
     ]
    }
   ],
   "source": [
    "avg = in_degree_map.map(lambda x: x[1]).mean()\n",
    "print(f\"Average in-degree = {avg}\")"
   ]
  },
  {
   "cell_type": "code",
   "execution_count": 140,
   "metadata": {},
   "outputs": [
    {
     "name": "stdout",
     "output_type": "stream",
     "text": [
      "Average in-degree (does not includes those with no out degree) = 7.6941400666984245\n"
     ]
    }
   ],
   "source": [
    "avg = web_page_graph \\\n",
    "    .map(lambda x: (x[1], x[2])) \\\n",
    "    .reduceByKey(add) \\\n",
    "    .map(lambda x: x[1]).mean()\n",
    "print(f\"Average in-degree (does not includes those with no out degree) = {avg}\")"
   ]
  },
  {
   "attachments": {},
   "cell_type": "markdown",
   "metadata": {},
   "source": [
    "#### Webpages with largest indegree"
   ]
  },
  {
   "attachments": {},
   "cell_type": "markdown",
   "metadata": {},
   "source": [
    "##### Top 5"
   ]
  },
  {
   "cell_type": "code",
   "execution_count": 170,
   "metadata": {},
   "outputs": [
    {
     "data": {
      "text/plain": [
       "[('1806', 199), ('1079', 169), ('9', 155), ('2078', 134), ('0', 126)]"
      ]
     },
     "execution_count": 170,
     "metadata": {},
     "output_type": "execute_result"
    }
   ],
   "source": [
    "top_five_in_largest = in_degree_map.collect()[:5]\n",
    "top_five_in_largest"
   ]
  },
  {
   "cell_type": "code",
   "execution_count": 160,
   "metadata": {},
   "outputs": [
    {
     "name": "stdout",
     "output_type": "stream",
     "text": [
      "1806 http://www.yahoo.com/ 199\n",
      "1079 http://www.ca.gov/ 169\n",
      "9 http://www.leginfo.ca.gov/calaw.html 155\n",
      "2078 http://www.linkexchange.com/ 134\n",
      "0 http://www.berkeley.edu/ 126\n"
     ]
    }
   ],
   "source": [
    "for row in top_five_in_largest:\n",
    "    (id_to_find, count) = row\n",
    "    matching_urls = web_page.filter(lambda x: x[0] == id_to_find)\n",
    "    for id, url in matching_urls.collect():\n",
    "        print(id, url, count)\n"
   ]
  },
  {
   "attachments": {},
   "cell_type": "markdown",
   "metadata": {},
   "source": [
    "##### Largest"
   ]
  },
  {
   "cell_type": "code",
   "execution_count": 171,
   "metadata": {},
   "outputs": [
    {
     "name": "stdout",
     "output_type": "stream",
     "text": [
      "1806 http://www.yahoo.com/ 199\n"
     ]
    }
   ],
   "source": [
    "largest = in_degree_map.max(lambda x: x[1])\n",
    "matching_urls = web_page.filter(lambda x: x[0] == largest[0])\n",
    "for id, url in matching_urls.collect():\n",
    "    print(id, url, largest[1])"
   ]
  },
  {
   "cell_type": "code",
   "execution_count": null,
   "metadata": {},
   "outputs": [],
   "source": []
  }
 ],
 "metadata": {
  "kernelspec": {
   "display_name": "ass2-kRf16OLx",
   "language": "python",
   "name": "python3"
  },
  "language_info": {
   "codemirror_mode": {
    "name": "ipython",
    "version": 3
   },
   "file_extension": ".py",
   "mimetype": "text/x-python",
   "name": "python",
   "nbconvert_exporter": "python",
   "pygments_lexer": "ipython3",
   "version": "3.10.6"
  },
  "orig_nbformat": 4
 },
 "nbformat": 4,
 "nbformat_minor": 2
}
